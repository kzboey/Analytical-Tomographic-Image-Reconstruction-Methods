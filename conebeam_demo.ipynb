{
 "cells": [
  {
   "cell_type": "code",
   "execution_count": 1,
   "id": "cbb0b55c-568e-4ff1-9b27-bf9cf768054e",
   "metadata": {},
   "outputs": [
    {
     "name": "stdout",
     "output_type": "stream",
     "text": [
      "pyelsa not build with CUDA projector support\n"
     ]
    }
   ],
   "source": [
    "import numpy as np\n",
    "import matplotlib.pyplot as plt\n",
    "import pyelsa as elsa\n",
    "from reconstruction import XrayOperator, feldkamp"
   ]
  },
  {
   "cell_type": "code",
   "execution_count": 13,
   "id": "64bca73a-f35c-4110-9e20-6a6f571be1d2",
   "metadata": {},
   "outputs": [
    {
     "name": "stdout",
     "output_type": "stream",
     "text": [
      "[2023-12-25 18:50:35.208] [phantom::modifiedSheppLogan] [info] creating modified Shepp Logan phantom of size 64^3\n",
      "[2023-12-25 18:50:35.208] [phantom::modifiedSheppLogan] [info] rasterize Ellipsoid with amplitude 1, center (32,32,32) , half axis (22,29,26) euler angels (0,0,0)\n",
      "[2023-12-25 18:50:35.210] [phantom::modifiedSheppLogan] [info] rasterize Ellipsoid with amplitude -0.8, center (32,31,32) , half axis (21,28,25) euler angels (0,0,0)\n",
      "[2023-12-25 18:50:35.211] [phantom::modifiedSheppLogan] [info] rasterize Ellipsoid with amplitude -0.2, center (39,32,32) , half axis (3,10,7) euler angels (-18,0,10)\n",
      "[2023-12-25 18:50:35.211] [phantom::modifiedSheppLogan] [info] rasterize Ellipsoid with amplitude -0.2, center (25,32,32) , half axis (5,13,9) euler angels (18,0,10)\n",
      "[2023-12-25 18:50:35.211] [phantom::modifiedSheppLogan] [info] rasterize Ellipsoid with amplitude 0.1, center (32,43,27) , half axis (7,8,13) euler angels (0,0,0)\n",
      "[2023-12-25 18:50:35.211] [phantom::modifiedSheppLogan] [info] rasterize Ellipsoid with amplitude 0.1, center (32,35,40) , half axis (1,1,2) euler angels (0,0,0)\n",
      "[2023-12-25 18:50:35.211] [phantom::modifiedSheppLogan] [info] rasterize Ellipsoid with amplitude 0.1, center (32,29,40) , half axis (1,1,2) euler angels (0,0,0)\n",
      "[2023-12-25 18:50:35.211] [phantom::modifiedSheppLogan] [info] rasterize Ellipsoid with amplitude 0.1, center (29,13,32) , half axis (1,1,2) euler angels (0,0,0)\n",
      "[2023-12-25 18:50:35.211] [phantom::modifiedSheppLogan] [info] rasterize Ellipsoid with amplitude 0.1, center (32,13,32) , half axis (1,1,1) euler angels (0,0,0)\n",
      "[2023-12-25 18:50:35.211] [phantom::modifiedSheppLogan] [info] rasterize Ellipsoid with amplitude 0.1, center (34,13,32) , half axis (1,1,1) euler angels (0,0,0)\n",
      "[2023-12-25 18:50:35.213] [CircleTrajectoryGenerator] [info] creating 3D trajectory with 360 poses in an 180 degree arc\n"
     ]
    }
   ],
   "source": [
    "size = np.array([64, 64, 64])\n",
    "phantom = np.rot90(elsa.phantoms.modifiedSheppLogan(size), -1)\n",
    "\n",
    "num_angles = 360\n",
    "arc = 180\n",
    "\n",
    "s2c = size[0] * 100\n",
    "c2d = size[0] \n",
    "sd = s2c + c2d\n",
    "\n",
    "projector = feldkamp.Feldkamp(size, [120,120], np.linspace(0, arc, num_angles), s2c, c2d, cor_offset=[0,0,0],pp_offset=[0,0])\n",
    "sino = projector.apply(phantom)\n",
    "recon = projector.applyAdjoint(sino)"
   ]
  },
  {
   "cell_type": "code",
   "execution_count": 14,
   "id": "b625177b-2bbf-4037-ac29-279187a1010e",
   "metadata": {},
   "outputs": [
    {
     "data": {
      "image/png": "[encoded data removed]",
      "text/plain": [
       "<Figure size 640x480 with 2 Axes>"
      ]
     },
     "metadata": {},
     "output_type": "display_data"
    }
   ],
   "source": [
    "fig, (ax1, ax2) = plt.subplots(1, 2)\n",
    "ax1.imshow(phantom[32,:,:].T, cmap=\"gray\")\n",
    "ax1.set_title(\"Original cone beam sino\")\n",
    "ax1.get_xaxis().set_visible(False)\n",
    "ax1.get_yaxis().set_visible(False)\n",
    "\n",
    "ax2.imshow(recon[32,:,:], cmap=\"gray\")\n",
    "ax2.set_title(\"Reconstructed cone-beam sino\")\n",
    "ax2.get_xaxis().set_visible(False)\n",
    "ax2.get_yaxis().set_visible(False)"
   ]
  },
  {
   "cell_type": "code",
   "execution_count": null,
   "id": "688ed44d-d7c3-4070-a205-00a098b9bf3b",
   "metadata": {},
   "outputs": [],
   "source": []
  }
 ],
 "metadata": {
  "kernelspec": {
   "display_name": "Python (i2dl)",
   "language": "python",
   "name": "i2dl"
  },
  "language_info": {
   "codemirror_mode": {
    "name": "ipython",
    "version": 3
   },
   "file_extension": ".py",
   "mimetype": "text/x-python",
   "name": "python",
   "nbconvert_exporter": "python",
   "pygments_lexer": "ipython3",
   "version": "3.10.6"
  }
 },
 "nbformat": 4,
 "nbformat_minor": 5
}
